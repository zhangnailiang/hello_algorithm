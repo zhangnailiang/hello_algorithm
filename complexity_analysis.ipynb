{
 "cells": [
  {
   "cell_type": "markdown",
   "id": "8cffd1a3",
   "metadata": {},
   "source": [
    "# 2.2 迭代与递归"
   ]
  },
  {
   "cell_type": "markdown",
   "id": "06dd7616",
   "metadata": {},
   "source": [
    "# 2.2.1 迭代"
   ]
  },
  {
   "cell_type": "markdown",
   "id": "773f3a10",
   "metadata": {},
   "source": [
    "1. for loop"
   ]
  },
  {
   "cell_type": "code",
   "execution_count": 10,
   "id": "0d159e5f",
   "metadata": {},
   "outputs": [
    {
     "data": {
      "text/plain": [
       "21"
      ]
     },
     "execution_count": 10,
     "metadata": {},
     "output_type": "execute_result"
    }
   ],
   "source": [
    "def for_loop(n):\n",
    "    res = 0\n",
    "    for i in range(1, n + 1):\n",
    "        res += i\n",
    "    return res\n",
    "for_loop(6)"
   ]
  },
  {
   "cell_type": "markdown",
   "id": "b1bbce71",
   "metadata": {},
   "source": [
    "2. while loop"
   ]
  },
  {
   "cell_type": "code",
   "execution_count": 11,
   "id": "be8979d2",
   "metadata": {},
   "outputs": [
    {
     "data": {
      "text/plain": [
       "15"
      ]
     },
     "execution_count": 11,
     "metadata": {},
     "output_type": "execute_result"
    }
   ],
   "source": [
    "def while_loop(n):\n",
    "    result = 0\n",
    "    i = 1\n",
    "    while i <= n:\n",
    "        result += i\n",
    "        i += 1\n",
    "    return result\n",
    "while_loop(5)"
   ]
  },
  {
   "cell_type": "code",
   "execution_count": 12,
   "id": "14a3b791",
   "metadata": {},
   "outputs": [
    {
     "data": {
      "text/plain": [
       "5"
      ]
     },
     "execution_count": 12,
     "metadata": {},
     "output_type": "execute_result"
    }
   ],
   "source": [
    "def while_loop_ii(n: int) -> int:\n",
    "    \"\"\"while 循环（两次更新）\"\"\"\n",
    "    res = 0\n",
    "    i = 1  # 初始化条件变量\n",
    "    # 循环求和 1, 4, ...\n",
    "    while i <= n:\n",
    "        res += i\n",
    "        # 更新条件变量\n",
    "        i += 1\n",
    "        i *= 2\n",
    "    return res\n",
    "while_loop_ii(5)"
   ]
  },
  {
   "cell_type": "markdown",
   "id": "281c00f2",
   "metadata": {},
   "source": [
    "## 2.2.2 递归"
   ]
  },
  {
   "cell_type": "markdown",
   "id": "ddc329d1",
   "metadata": {},
   "source": [
    "(递归代码的三个要素：\n",
    "    1.终止条件\n",
    "    2.递归调用\n",
    "    3.返回条件\n",
    ")"
   ]
  },
  {
   "cell_type": "code",
   "execution_count": 13,
   "id": "959eb559",
   "metadata": {},
   "outputs": [],
   "source": [
    "def recur(n):\n",
    "    if n == 1:\n",
    "        return 1\n",
    "    res = recur(n - 1)\n",
    "    return n + res"
   ]
  },
  {
   "cell_type": "markdown",
   "id": "047c4eff",
   "metadata": {},
   "source": [
    "1. 尾递归调用\n",
    "\n",
    "   其实就是不在return中进行操作，只在函数return的函数内部进行"
   ]
  },
  {
   "cell_type": "code",
   "execution_count": 14,
   "id": "d91e9804",
   "metadata": {},
   "outputs": [
    {
     "data": {
      "text/plain": [
       "15"
      ]
     },
     "execution_count": 14,
     "metadata": {},
     "output_type": "execute_result"
    }
   ],
   "source": [
    "def tail_recur(n, result):\n",
    "    if n == 0:\n",
    "        return result\n",
    "    return tail_recur(n - 1, result + n)\n",
    "tail_recur(5, 0)"
   ]
  },
  {
   "cell_type": "markdown",
   "id": "85b7a351",
   "metadata": {},
   "source": [
    "eg: 给定一个斐波那契数列，进行递归调用。\n",
    "\n",
    "终止条件：f(1) = 0, and f(2) = 1\n",
    "\n",
    "递归调用：f(n) = f(n - 1) + f(n - 2)\n",
    "\n",
    "返回结果: result"
   ]
  },
  {
   "cell_type": "code",
   "execution_count": 16,
   "id": "6ef60eba",
   "metadata": {},
   "outputs": [
    {
     "data": {
      "text/plain": [
       "13"
      ]
     },
     "execution_count": 16,
     "metadata": {},
     "output_type": "execute_result"
    }
   ],
   "source": [
    "def fib(n):\n",
    "    if n == 1 or n == 2:\n",
    "        return n - 1\n",
    "    result = fib(n - 1) + fib(n - 2)\n",
    "    return result\n",
    "fib(8)\n",
    "    "
   ]
  },
  {
   "cell_type": "code",
   "execution_count": null,
   "id": "0935fa21",
   "metadata": {},
   "outputs": [],
   "source": []
  }
 ],
 "metadata": {
  "kernelspec": {
   "display_name": "Python 3 (ipykernel)",
   "language": "python",
   "name": "python3"
  },
  "language_info": {
   "codemirror_mode": {
    "name": "ipython",
    "version": 3
   },
   "file_extension": ".py",
   "mimetype": "text/x-python",
   "name": "python",
   "nbconvert_exporter": "python",
   "pygments_lexer": "ipython3",
   "version": "3.10.9"
  }
 },
 "nbformat": 4,
 "nbformat_minor": 5
}
